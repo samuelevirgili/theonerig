{
 "cells": [
  {
   "cell_type": "code",
   "execution_count": null,
   "metadata": {},
   "outputs": [],
   "source": [
    "#default_exp surprise.processing\n",
    "%load_ext autoreload\n",
    "%autoreload 2"
   ]
  },
  {
   "cell_type": "markdown",
   "metadata": {},
   "source": [
    "# surprise.processing\n",
    "> Processing the different stream of data to calculate responses of retinal cells"
   ]
  },
  {
   "cell_type": "code",
   "execution_count": null,
   "metadata": {},
   "outputs": [],
   "source": [
    "#export\n",
    "from functools import partial\n",
    "import numpy as np\n",
    "from sklearn.decomposition import PCA\n",
    "from sklearn import cluster\n",
    "import scipy.ndimage as ndimage\n",
    "import scipy.signal as signal\n",
    "import scipy as sp\n",
    "from cmath import *\n",
    "import itertools\n",
    "import random\n",
    "\n",
    "from theonerig.core import *\n",
    "from theonerig.utils import *\n",
    "from theonerig.modelling import *"
   ]
  },
  {
   "cell_type": "code",
   "execution_count": null,
   "metadata": {},
   "outputs": [],
   "source": [
    "#export\n",
    "def prior_p_m_num(window,seq):   \n",
    "    ''' it calculates the numerator of the prior'''\n",
    "    ms=seq.size\n",
    "    counter=0\n",
    "    for i in range(window.size+1):\n",
    "        if i>=ms:\n",
    "            comp=window[i-ms:i]==seq\n",
    "            if comp.all():\n",
    "                counter+=1\n",
    "    return counter\n",
    "\n",
    "def prior_p_m_denum(window,seq):   #window is size w and seq is size ms\n",
    "    ''' it calculates the denumerator of the prior'''\n",
    "    return window.size-seq.size-1\n",
    "\n",
    "def p_d(window, D):\n",
    "    ''' it calculates the evidence'''\n",
    "    return window[window==D].size/len(window)\n",
    "\n",
    "def p_d_m(window,seq, D):  \n",
    "    ''' it calculates the likelihood'''\n",
    "    ms=seq.size\n",
    "    count=0\n",
    "    for i in np.where(window==D)[0]:\n",
    "        if i-ms>=0:\n",
    "            comp=window[i-ms:i]==seq\n",
    "            if comp.all():\n",
    "                count+=1\n",
    "    return count/prior_p_m_num(window,seq)\n",
    "\n",
    "def summing_function(window,D,ms): \n",
    "    '''it finds all the possible stataes sequences to sum across'''\n",
    "    Ms=[]\n",
    "    for j in np.where(window==D)[0]:\n",
    "        if len(window[j-ms:j])==ms:\n",
    "            Ms.append(window[j-ms:j])\n",
    "    #return np.unique(np.array(Ms),axis=0)\n",
    "    return np.array(Ms)\n",
    "\n",
    "\n",
    "def surprise(array, window_lenght, ms):\n",
    "    '''changes the trace of a pixel values according to how surprising they are'''\n",
    "    filtered_array=np.zeros((len(array)))\n",
    "    for time, value in enumerate(array):\n",
    "        if time<window_lenght:\n",
    "            filtered_array[time]=value\n",
    "        else:\n",
    "            Ms=summing_function(array[time-window_lenght:time],value, ms) \n",
    "            if Ms.size ==0:\n",
    "                surprise=1\n",
    "            else:\n",
    "                Ms=np.unique(Ms,axis=0)\n",
    "                surprise=0\n",
    "                for M in Ms:\n",
    "                    likelihood=p_d_m(array[time-window_lenght:time],M, value)\n",
    "                    p_m=prior_p_m_num(array[time-window_lenght:time],M)/prior_p_m_denum(array[time-window_lenght:time],M)\n",
    "                    posterior=likelihood*p_m/p_d(array[time-window_lenght:time],value)\n",
    "                    surprise+=posterior*np.log(posterior/p_m)\n",
    "            filtered_array[time]=surprise\n",
    "    return filtered_array"
   ]
  },
  {
   "cell_type": "code",
   "execution_count": null,
   "metadata": {},
   "outputs": [
    {
     "name": "stdout",
     "output_type": "stream",
     "text": [
      "Converted 00_core.ipynb.\n",
      "Converted 01_utils.ipynb.\n",
      "Converted 02_processing.ipynb.\n",
      "Converted 03_modelling.ipynb.\n",
      "Converted 04_plotting.ipynb.\n",
      "Converted 05_database.ipynb.\n",
      "Converted 10_synchro.io.ipynb.\n",
      "Converted 11_synchro.extracting.ipynb.\n",
      "Converted 12_synchro.processing.ipynb.\n",
      "Converted 13_leddome.ipynb.\n",
      "Converted 20_surprise.processing.ipynb.\n",
      "Converted 99_testdata.ipynb.\n",
      "Converted index.ipynb.\n"
     ]
    }
   ],
   "source": [
    "from nbdev.export import *\n",
    "notebook2script()"
   ]
  }
 ],
 "metadata": {
  "kernelspec": {
   "display_name": "Python 3",
   "language": "python",
   "name": "python3"
  }
 },
 "nbformat": 4,
 "nbformat_minor": 2
}
